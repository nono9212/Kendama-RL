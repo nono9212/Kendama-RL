{
 "cells": [
  {
   "cell_type": "code",
   "execution_count": 1,
   "metadata": {
    "tags": []
   },
   "outputs": [
    {
     "output_type": "stream",
     "name": "stdout",
     "text": [
      "[[(-0.00041584540446680545, -2.2433005897488298e-05, 0.07381058544907484)\n  ((-0.010548614149981256, -0.005384963508892564, -0.017979447118291938), (55.36249452792139, -99.60950302836652, -99.99790570934304))\n  (array([-0.00105486, -0.0005385 , -0.00179794]), array([ 5.53624945, -9.9609503 , -9.99979057]))]\n [(-7.549920042196525e-06, -0.00023572752232363866, 0.35181722650836206)\n  ((0.0, 0.0, -0.04166666666666667), (0.0, 0.0, 0.0))\n  (array([ 0.        ,  0.        , -0.00416667]), array([0., 0., 0.]))]]\n"
     ]
    }
   ],
   "source": [
    "from kendama_env import KendamaEnv\n",
    "import numpy as np\n",
    "import time\n",
    "env = KendamaEnv()\n",
    "\n",
    "\n",
    "start_time = time.time()\n",
    "while 1:\n",
    "    current_time = time.time()\n",
    "    elapsed_time = current_time - start_time\n",
    "\n",
    "    if elapsed_time > 1.0/env.dt:\n",
    "        start_time = time.time()\n",
    "        # action = [[2,8,10],[10,0,0]]\n",
    "        action = [list(np.random.normal(scale = 0,size = 3)),list(np.random.normal(scale = 10,size = 3))]\n",
    "        ob, reward, done, _ = env.step(action)\n",
    "        break"
   ]
  },
  {
   "cell_type": "code",
   "execution_count": 3,
   "metadata": {},
   "outputs": [
    {
     "output_type": "execute_result",
     "data": {
      "text/plain": [
       "array([(-0.00041584540446680545, -2.2433005897488298e-05, 0.07381058544907484),\n",
       "       ((-0.010548614149981256, -0.005384963508892564, -0.017979447118291938), (55.36249452792139, -99.60950302836652, -99.99790570934304)),\n",
       "       (array([-0.00105486, -0.0005385 , -0.00179794]), array([ 5.53624945, -9.9609503 , -9.99979057]))],\n",
       "      dtype=object)"
      ]
     },
     "metadata": {},
     "execution_count": 3
    }
   ],
   "source": [
    "ob[0]"
   ]
  },
  {
   "cell_type": "code",
   "execution_count": null,
   "metadata": {},
   "outputs": [],
   "source": []
  }
 ],
 "metadata": {
  "kernelspec": {
   "display_name": "Python 3",
   "language": "python",
   "name": "python3"
  },
  "language_info": {
   "codemirror_mode": {
    "name": "ipython",
    "version": 3
   },
   "file_extension": ".py",
   "mimetype": "text/x-python",
   "name": "python",
   "nbconvert_exporter": "python",
   "pygments_lexer": "ipython3",
   "version": "3.7.0-final"
  }
 },
 "nbformat": 4,
 "nbformat_minor": 2
}