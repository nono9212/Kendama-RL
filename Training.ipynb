{
 "cells": [
  {
   "cell_type": "code",
   "execution_count": null,
   "metadata": {
    "tags": []
   },
   "outputs": [],
   "source": [
    "from IPython.display import clear_output\n",
    "from kendama_env import KendamaEnv\n",
    "import numpy as np \n",
    "import time\n",
    "env = KendamaEnv()\n",
    "\n",
    "a = 0\n",
    "start_time = time.time()\n",
    "while 1:\n",
    "    current_time = time.time()\n",
    "    elapsed_time = current_time - start_time\n",
    "\n",
    "    if elapsed_time > 1.0/240:\n",
    "        a += 0.005\n",
    "        start_time = time.time()\n",
    "        # action = [list(np.random.normal(scale = 0,loc=1,size = 3)),list(np.random.normal(scale = 10,size = 3))]\n",
    "        action = [0,0,0,0,0,0]\n",
    "        ob, reward, done, _ = env.step(action)\n",
    "        clear_output(wait=True)\n",
    "        print(reward)\n",
    "        \n",
    "        if(done):\n",
    "            env.reset()"
   ]
  },
  {
   "cell_type": "code",
   "execution_count": null,
   "metadata": {
    "scrolled": true
   },
   "outputs": [],
   "source": [
    "import gym\n",
    "from IPython.display import clear_output\n",
    "from kendama_env import KendamaEnv\n",
    "import numpy as np \n",
    "import time\n",
    "from stable_baselines.common.policies import MlpPolicy\n",
    "from stable_baselines.common.vec_env import DummyVecEnv\n",
    "from stable_baselines import PPO2\n",
    "from stable_baselines.common.vec_env import VecNormalize\n",
    "\n",
    "env = KendamaEnv(render=True)\n",
    "env = DummyVecEnv([lambda:env])\n",
    "\n",
    "model = PPO2(MlpPolicy, env, verbose=0,tensorboard_log=\"./log_model/\", gamma=0.99)\n",
    "#model.learn(total_timesteps=10000000)"
   ]
  },
  {
   "cell_type": "code",
   "execution_count": null,
   "metadata": {},
   "outputs": [],
   "source": [
    "\n",
    "model.learn(total_timesteps=10000000,tb_log_name=\"vitesse4.0\", reset_num_timesteps=True)"
   ]
  },
  {
   "cell_type": "code",
   "execution_count": null,
   "metadata": {},
   "outputs": [],
   "source": [
    "obs = env.reset()\n",
    "start_time = time.time()\n",
    "while 1:\n",
    "    current_time = time.time()\n",
    "    elapsed_time = current_time - start_time\n",
    "    if elapsed_time > 1.0/20:\n",
    "        start_time=current_time\n",
    "        action, _states = model.predict(obs)\n",
    "        obs, rewards, dones, info = env.step(action)\n",
    "        if dones:\n",
    "            obs = env.reset()\n"
   ]
  },
  {
   "cell_type": "code",
   "execution_count": null,
   "metadata": {},
   "outputs": [],
   "source": []
  }
 ],
 "metadata": {
  "kernelspec": {
   "display_name": "Python 3",
   "language": "python",
   "name": "python3"
  },
  "language_info": {
   "codemirror_mode": {
    "name": "ipython",
    "version": 3
   },
   "file_extension": ".py",
   "mimetype": "text/x-python",
   "name": "python",
   "nbconvert_exporter": "python",
   "pygments_lexer": "ipython3",
   "version": "3.7.3"
  }
 },
 "nbformat": 4,
 "nbformat_minor": 2
}
